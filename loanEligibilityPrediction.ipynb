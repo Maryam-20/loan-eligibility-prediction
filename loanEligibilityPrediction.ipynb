{
 "cells": [
  {
   "cell_type": "code",
   "execution_count": 100,
   "metadata": {},
   "outputs": [],
   "source": [
    "import numpy as np\n",
    "from numpy import dtype\n",
    "import pandas as pd\n",
    "import matplotlib.pyplot as plt\n",
    "import seaborn as sns\n",
    "from sklearn.preprocessing import Normalizer\n",
    "from sklearn.preprocessing import StandardScaler\n",
    "from sklearn.preprocessing import MinMaxScaler\n",
    "from sklearn.model_selection import train_test_split\n",
    "from sklearn.linear_model import LogisticRegression, LinearRegression"
   ]
  },
  {
   "cell_type": "markdown",
   "metadata": {},
   "source": [
    "LOADING THE DATASET"
   ]
  },
  {
   "cell_type": "code",
   "execution_count": 6,
   "metadata": {},
   "outputs": [
    {
     "name": "stdout",
     "output_type": "stream",
     "text": [
      "Index(['Loan_ID', 'Gender', 'Married', 'Dependents', 'Education',\n",
      "       'Self_Employed', 'ApplicantIncome', 'CoapplicantIncome', 'LoanAmount',\n",
      "       'Loan_Amount_Term', 'Credit_History', 'Property_Area'],\n",
      "      dtype='object')\n"
     ]
    }
   ],
   "source": [
    "data = pd.read_csv(\"test_Y3wMUE5_7gLdaTN.csv\")\n",
    "print(data.columns)"
   ]
  },
  {
   "cell_type": "markdown",
   "metadata": {},
   "source": [
    "DATA EXPLORATION"
   ]
  },
  {
   "cell_type": "code",
   "execution_count": 7,
   "metadata": {},
   "outputs": [
    {
     "name": "stdout",
     "output_type": "stream",
     "text": [
      "<class 'pandas.core.frame.DataFrame'>\n",
      "RangeIndex: 367 entries, 0 to 366\n",
      "Data columns (total 12 columns):\n",
      " #   Column             Non-Null Count  Dtype  \n",
      "---  ------             --------------  -----  \n",
      " 0   Loan_ID            367 non-null    object \n",
      " 1   Gender             356 non-null    object \n",
      " 2   Married            367 non-null    object \n",
      " 3   Dependents         357 non-null    object \n",
      " 4   Education          367 non-null    object \n",
      " 5   Self_Employed      344 non-null    object \n",
      " 6   ApplicantIncome    367 non-null    int64  \n",
      " 7   CoapplicantIncome  367 non-null    int64  \n",
      " 8   LoanAmount         362 non-null    float64\n",
      " 9   Loan_Amount_Term   361 non-null    float64\n",
      " 10  Credit_History     338 non-null    float64\n",
      " 11  Property_Area      367 non-null    object \n",
      "dtypes: float64(3), int64(2), object(7)\n",
      "memory usage: 34.5+ KB\n",
      "None\n"
     ]
    }
   ],
   "source": [
    "print(data.info())"
   ]
  },
  {
   "cell_type": "code",
   "execution_count": 9,
   "metadata": {},
   "outputs": [
    {
     "name": "stdout",
     "output_type": "stream",
     "text": [
      "    Loan_ID  Gender Married  ... Loan_Amount_Term Credit_History Property_Area\n",
      "0  LP001015    Male     Yes  ...            360.0            1.0         Urban\n",
      "1  LP001022    Male     Yes  ...            360.0            1.0         Urban\n",
      "2  LP001031    Male     Yes  ...            360.0            1.0         Urban\n",
      "3  LP001035    Male     Yes  ...            360.0            NaN         Urban\n",
      "4  LP001051    Male      No  ...            360.0            1.0         Urban\n",
      "5  LP001054    Male     Yes  ...            360.0            1.0         Urban\n",
      "6  LP001055  Female      No  ...            360.0            1.0     Semiurban\n",
      "7  LP001056    Male     Yes  ...            360.0            0.0         Rural\n",
      "8  LP001059    Male     Yes  ...            240.0            1.0         Urban\n",
      "9  LP001067    Male      No  ...            360.0            1.0     Semiurban\n",
      "\n",
      "[10 rows x 12 columns]\n"
     ]
    }
   ],
   "source": [
    "# CHECKING THE FIRST 10 ROWS\n",
    "print(data.head(10))"
   ]
  },
  {
   "cell_type": "code",
   "execution_count": 10,
   "metadata": {},
   "outputs": [
    {
     "name": "stdout",
     "output_type": "stream",
     "text": [
      "      Loan_ID  Gender Married  ... Loan_Amount_Term Credit_History Property_Area\n",
      "357  LP002952    Male      No  ...            360.0            1.0         Urban\n",
      "358  LP002954    Male     Yes  ...            360.0            NaN         Rural\n",
      "359  LP002962    Male      No  ...            360.0            1.0     Semiurban\n",
      "360  LP002965  Female     Yes  ...            360.0            NaN         Urban\n",
      "361  LP002969    Male     Yes  ...            360.0            1.0     Semiurban\n",
      "362  LP002971    Male     Yes  ...            360.0            1.0         Urban\n",
      "363  LP002975    Male     Yes  ...            360.0            1.0         Urban\n",
      "364  LP002980    Male      No  ...            360.0            NaN     Semiurban\n",
      "365  LP002986    Male     Yes  ...            360.0            1.0         Rural\n",
      "366  LP002989    Male      No  ...            180.0            1.0         Rural\n",
      "\n",
      "[10 rows x 12 columns]\n"
     ]
    }
   ],
   "source": [
    "print(data.tail(10))"
   ]
  },
  {
   "cell_type": "code",
   "execution_count": 11,
   "metadata": {},
   "outputs": [
    {
     "name": "stdout",
     "output_type": "stream",
     "text": [
      "{'column1': {'Loan_ID': dtype('O')}, 'column2': {'Gender': dtype('O')}, 'column3': {'Married': dtype('O')}, 'column4': {'Dependents': dtype('O')}, 'column5': {'Education': dtype('O')}, 'column6': {'Self_Employed': dtype('O')}, 'column7': {'ApplicantIncome': dtype('int64')}, 'column8': {'CoapplicantIncome': dtype('int64')}, 'column9': {'LoanAmount': dtype('float64')}, 'column10': {'Loan_Amount_Term': dtype('float64')}, 'column11': {'Credit_History': dtype('float64')}, 'column12': {'Property_Area': dtype('O')}}\n"
     ]
    }
   ],
   "source": [
    "# CHECKING THE COLUMNS IN THE DATASET\n",
    "all_columns = {}\n",
    "num = 1\n",
    "# all_columns = {}\n",
    "for dat in data.columns:\n",
    "    # print(dat)\n",
    "    # print(dtype(data[dat]))\n",
    "    all_columns.update({f\"column{num}\":{dat: dtype(data[dat])}})\n",
    "    num += 1\n",
    "\n",
    "print(all_columns)"
   ]
  },
  {
   "cell_type": "code",
   "execution_count": 12,
   "metadata": {},
   "outputs": [
    {
     "name": "stdout",
     "output_type": "stream",
     "text": [
      "78\n"
     ]
    }
   ],
   "source": [
    "# # CHECKING FOR MISSING VALUES IN EACH COLUMN\n",
    "\n",
    "# # print(data.isnull().values().any())\n",
    "# from pandas import isnull\n",
    "\n",
    "\n",
    "missing_row_list = []\n",
    "# gender = data[\"Gender\"].isnull()\n",
    "# first_20 = gender[: 20]\n",
    "# second_20 = gender[21: 41 ]\n",
    "# third_20 = gender[42: 62]\n",
    "# fourth_20 = gender[63: 83]\n",
    "# fifth_20 = gender[84:1]\n",
    "missing_row_dict = {}\n",
    "\n",
    "# num = 0\n",
    "for col in data.columns:\n",
    "    # print(col)\n",
    "    missing = data[col].isnull()\n",
    "    # print(missing)\n",
    "    for indx, val in zip(missing.index, missing):\n",
    "        # print(f\"{indx}: {val}\")\n",
    "        if val == True:\n",
    "            missing_row_dict.update({f\"row{indx}\": val})\n",
    "    missing_row_list.append({col: missing_row_dict})\n",
    "        # break\n",
    "        # num  +=1\n",
    "print(len((missing_row_list[1][\"Gender\"].values())))\n",
    "# print(first_20)\n",
    "# # print(second_20) #row 22 has a missing val\n",
    "# # print(third_20) #row 51 has a missing value\n",
    "# # print(fourth_20)\n"
   ]
  },
  {
   "cell_type": "code",
   "execution_count": 13,
   "metadata": {},
   "outputs": [
    {
     "name": "stdout",
     "output_type": "stream",
     "text": [
      "       ApplicantIncome  CoapplicantIncome  ...  Loan_Amount_Term  Credit_History\n",
      "count          367.000            367.000  ...           361.000         338.000\n",
      "mean          4805.599           1569.578  ...           342.537           0.825\n",
      "std           4910.685           2334.232  ...            65.157           0.380\n",
      "min              0.000              0.000  ...             6.000           0.000\n",
      "25%           2864.000              0.000  ...           360.000           1.000\n",
      "50%           3786.000           1025.000  ...           360.000           1.000\n",
      "75%           5060.000           2430.500  ...           360.000           1.000\n",
      "max          72529.000          24000.000  ...           480.000           1.000\n",
      "\n",
      "[8 rows x 5 columns]\n"
     ]
    }
   ],
   "source": [
    "print(data.describe().round(3))"
   ]
  },
  {
   "cell_type": "markdown",
   "metadata": {},
   "source": [
    "DATA CLEANING/PREPROCESSING"
   ]
  },
  {
   "cell_type": "code",
   "execution_count": 14,
   "metadata": {},
   "outputs": [
    {
     "name": "stdout",
     "output_type": "stream",
     "text": [
      "      Loan_ID Gender Married  ... Loan_Amount_Term Credit_History Property_Area\n",
      "0    LP001015   Male     Yes  ...            360.0            1.0         Urban\n",
      "1    LP001022   Male     Yes  ...            360.0            1.0         Urban\n",
      "2    LP001031   Male     Yes  ...            360.0            1.0         Urban\n",
      "3    LP001035   Male     Yes  ...            360.0            NaN         Urban\n",
      "4    LP001051   Male      No  ...            360.0            1.0         Urban\n",
      "..        ...    ...     ...  ...              ...            ...           ...\n",
      "362  LP002971   Male     Yes  ...            360.0            1.0         Urban\n",
      "363  LP002975   Male     Yes  ...            360.0            1.0         Urban\n",
      "364  LP002980   Male      No  ...            360.0            NaN     Semiurban\n",
      "365  LP002986   Male     Yes  ...            360.0            1.0         Rural\n",
      "366  LP002989   Male      No  ...            180.0            1.0         Rural\n",
      "\n",
      "[367 rows x 12 columns]\n"
     ]
    }
   ],
   "source": [
    "# Converting to data loaded to DataFrame\n",
    "df  = pd.DataFrame(data)\n",
    "print(df)"
   ]
  },
  {
   "cell_type": "code",
   "execution_count": 15,
   "metadata": {},
   "outputs": [
    {
     "name": "stdout",
     "output_type": "stream",
     "text": [
      "Loan_ID               0\n",
      "Gender               11\n",
      "Married               0\n",
      "Dependents           10\n",
      "Education             0\n",
      "Self_Employed        23\n",
      "ApplicantIncome       0\n",
      "CoapplicantIncome     0\n",
      "LoanAmount            5\n",
      "Loan_Amount_Term      6\n",
      "Credit_History       29\n",
      "Property_Area         0\n",
      "dtype: int64\n",
      "289\n"
     ]
    }
   ],
   "source": [
    "# Total number of null value in each column\n",
    "print(df.isnull().sum(axis=0))\n",
    "\n",
    "# Making new dataframe with dropped NaN Value\n",
    "new_df = data.dropna(axis=0, how=\"any\")\n",
    "print(len(new_df))\n",
    "\n",
    "\n"
   ]
  },
  {
   "cell_type": "code",
   "execution_count": 39,
   "metadata": {},
   "outputs": [
    {
     "name": "stdout",
     "output_type": "stream",
     "text": [
      "Loan_ID              0\n",
      "Gender               0\n",
      "Married              0\n",
      "Dependents           0\n",
      "Education            0\n",
      "Self_Employed        0\n",
      "ApplicantIncome      0\n",
      "CoapplicantIncome    0\n",
      "LoanAmount           0\n",
      "Loan_Amount_Term     0\n",
      "Credit_History       0\n",
      "Property_Area        0\n",
      "dtype: int64\n"
     ]
    }
   ],
   "source": [
    "# print(new_df.dtypes)\n",
    "print(new_df.isnull().sum())"
   ]
  },
  {
   "cell_type": "code",
   "execution_count": 16,
   "metadata": {},
   "outputs": [
    {
     "name": "stdout",
     "output_type": "stream",
     "text": [
      "{'Gender': array(['Male', 'Female'], dtype=object), 'Married': array(['Yes', 'No'], dtype=object), 'Dependents': array(['0', '1', '2', '3+'], dtype=object), 'Education': array(['Graduate', 'Not Graduate'], dtype=object), 'Self_Employed': array(['No', 'Yes'], dtype=object), 'Loan_Amount_Term': array([360., 180., 480.,  84., 240.,  12., 300., 350.,  36., 120.,   6.]), 'Credit_History': array([1., 0.]), 'Property_Area': array(['Urban', 'Semiurban', 'Rural'], dtype=object)}\n"
     ]
    }
   ],
   "source": [
    "# Checking for the unique value in each column in dataFrame\n",
    "\n",
    "unique_val  ={}\n",
    "# print(df[\"Gender\"].unique())\n",
    "for col in new_df.columns:\n",
    "    # print(col)\n",
    "    if col == \"Loan_ID\" or col == \"ApplicantIncome\" or col == \"CoapplicantIncome\" or col == \"LoanAmount\":\n",
    "       continue \n",
    "    unique = new_df[col].unique()\n",
    "    unique_val.update({col:unique})\n",
    "print(unique_val)"
   ]
  },
  {
   "cell_type": "code",
   "execution_count": 17,
   "metadata": {},
   "outputs": [
    {
     "data": {
      "text/html": [
       "<div>\n",
       "<style scoped>\n",
       "    .dataframe tbody tr th:only-of-type {\n",
       "        vertical-align: middle;\n",
       "    }\n",
       "\n",
       "    .dataframe tbody tr th {\n",
       "        vertical-align: top;\n",
       "    }\n",
       "\n",
       "    .dataframe thead th {\n",
       "        text-align: right;\n",
       "    }\n",
       "</style>\n",
       "<table border=\"1\" class=\"dataframe\">\n",
       "  <thead>\n",
       "    <tr style=\"text-align: right;\">\n",
       "      <th></th>\n",
       "      <th>Loan_ID</th>\n",
       "      <th>Gender</th>\n",
       "      <th>Married</th>\n",
       "      <th>Dependents</th>\n",
       "      <th>Education</th>\n",
       "      <th>Self_Employed</th>\n",
       "      <th>ApplicantIncome</th>\n",
       "      <th>CoapplicantIncome</th>\n",
       "      <th>LoanAmount</th>\n",
       "      <th>Loan_Amount_Term</th>\n",
       "      <th>Credit_History</th>\n",
       "      <th>Property_Area</th>\n",
       "    </tr>\n",
       "  </thead>\n",
       "  <tbody>\n",
       "    <tr>\n",
       "      <th>0</th>\n",
       "      <td>LP001015</td>\n",
       "      <td>0</td>\n",
       "      <td>0</td>\n",
       "      <td>0</td>\n",
       "      <td>0</td>\n",
       "      <td>1</td>\n",
       "      <td>5720</td>\n",
       "      <td>0</td>\n",
       "      <td>110.0</td>\n",
       "      <td>360.0</td>\n",
       "      <td>1.0</td>\n",
       "      <td>0</td>\n",
       "    </tr>\n",
       "    <tr>\n",
       "      <th>1</th>\n",
       "      <td>LP001022</td>\n",
       "      <td>0</td>\n",
       "      <td>0</td>\n",
       "      <td>1</td>\n",
       "      <td>0</td>\n",
       "      <td>1</td>\n",
       "      <td>3076</td>\n",
       "      <td>1500</td>\n",
       "      <td>126.0</td>\n",
       "      <td>360.0</td>\n",
       "      <td>1.0</td>\n",
       "      <td>0</td>\n",
       "    </tr>\n",
       "    <tr>\n",
       "      <th>2</th>\n",
       "      <td>LP001031</td>\n",
       "      <td>0</td>\n",
       "      <td>0</td>\n",
       "      <td>2</td>\n",
       "      <td>0</td>\n",
       "      <td>1</td>\n",
       "      <td>5000</td>\n",
       "      <td>1800</td>\n",
       "      <td>208.0</td>\n",
       "      <td>360.0</td>\n",
       "      <td>1.0</td>\n",
       "      <td>0</td>\n",
       "    </tr>\n",
       "    <tr>\n",
       "      <th>4</th>\n",
       "      <td>LP001051</td>\n",
       "      <td>0</td>\n",
       "      <td>1</td>\n",
       "      <td>0</td>\n",
       "      <td>1</td>\n",
       "      <td>1</td>\n",
       "      <td>3276</td>\n",
       "      <td>0</td>\n",
       "      <td>78.0</td>\n",
       "      <td>360.0</td>\n",
       "      <td>1.0</td>\n",
       "      <td>0</td>\n",
       "    </tr>\n",
       "    <tr>\n",
       "      <th>5</th>\n",
       "      <td>LP001054</td>\n",
       "      <td>0</td>\n",
       "      <td>0</td>\n",
       "      <td>0</td>\n",
       "      <td>1</td>\n",
       "      <td>0</td>\n",
       "      <td>2165</td>\n",
       "      <td>3422</td>\n",
       "      <td>152.0</td>\n",
       "      <td>360.0</td>\n",
       "      <td>1.0</td>\n",
       "      <td>0</td>\n",
       "    </tr>\n",
       "    <tr>\n",
       "      <th>...</th>\n",
       "      <td>...</td>\n",
       "      <td>...</td>\n",
       "      <td>...</td>\n",
       "      <td>...</td>\n",
       "      <td>...</td>\n",
       "      <td>...</td>\n",
       "      <td>...</td>\n",
       "      <td>...</td>\n",
       "      <td>...</td>\n",
       "      <td>...</td>\n",
       "      <td>...</td>\n",
       "      <td>...</td>\n",
       "    </tr>\n",
       "    <tr>\n",
       "      <th>361</th>\n",
       "      <td>LP002969</td>\n",
       "      <td>0</td>\n",
       "      <td>0</td>\n",
       "      <td>1</td>\n",
       "      <td>0</td>\n",
       "      <td>1</td>\n",
       "      <td>2269</td>\n",
       "      <td>2167</td>\n",
       "      <td>99.0</td>\n",
       "      <td>360.0</td>\n",
       "      <td>1.0</td>\n",
       "      <td>1</td>\n",
       "    </tr>\n",
       "    <tr>\n",
       "      <th>362</th>\n",
       "      <td>LP002971</td>\n",
       "      <td>0</td>\n",
       "      <td>0</td>\n",
       "      <td>3+</td>\n",
       "      <td>1</td>\n",
       "      <td>0</td>\n",
       "      <td>4009</td>\n",
       "      <td>1777</td>\n",
       "      <td>113.0</td>\n",
       "      <td>360.0</td>\n",
       "      <td>1.0</td>\n",
       "      <td>0</td>\n",
       "    </tr>\n",
       "    <tr>\n",
       "      <th>363</th>\n",
       "      <td>LP002975</td>\n",
       "      <td>0</td>\n",
       "      <td>0</td>\n",
       "      <td>0</td>\n",
       "      <td>0</td>\n",
       "      <td>1</td>\n",
       "      <td>4158</td>\n",
       "      <td>709</td>\n",
       "      <td>115.0</td>\n",
       "      <td>360.0</td>\n",
       "      <td>1.0</td>\n",
       "      <td>0</td>\n",
       "    </tr>\n",
       "    <tr>\n",
       "      <th>365</th>\n",
       "      <td>LP002986</td>\n",
       "      <td>0</td>\n",
       "      <td>0</td>\n",
       "      <td>0</td>\n",
       "      <td>0</td>\n",
       "      <td>1</td>\n",
       "      <td>5000</td>\n",
       "      <td>2393</td>\n",
       "      <td>158.0</td>\n",
       "      <td>360.0</td>\n",
       "      <td>1.0</td>\n",
       "      <td>2</td>\n",
       "    </tr>\n",
       "    <tr>\n",
       "      <th>366</th>\n",
       "      <td>LP002989</td>\n",
       "      <td>0</td>\n",
       "      <td>1</td>\n",
       "      <td>0</td>\n",
       "      <td>0</td>\n",
       "      <td>0</td>\n",
       "      <td>9200</td>\n",
       "      <td>0</td>\n",
       "      <td>98.0</td>\n",
       "      <td>180.0</td>\n",
       "      <td>1.0</td>\n",
       "      <td>2</td>\n",
       "    </tr>\n",
       "  </tbody>\n",
       "</table>\n",
       "<p>289 rows × 12 columns</p>\n",
       "</div>"
      ],
      "text/plain": [
       "      Loan_ID Gender Married  ... Loan_Amount_Term Credit_History Property_Area\n",
       "0    LP001015      0       0  ...            360.0            1.0             0\n",
       "1    LP001022      0       0  ...            360.0            1.0             0\n",
       "2    LP001031      0       0  ...            360.0            1.0             0\n",
       "4    LP001051      0       1  ...            360.0            1.0             0\n",
       "5    LP001054      0       0  ...            360.0            1.0             0\n",
       "..        ...    ...     ...  ...              ...            ...           ...\n",
       "361  LP002969      0       0  ...            360.0            1.0             1\n",
       "362  LP002971      0       0  ...            360.0            1.0             0\n",
       "363  LP002975      0       0  ...            360.0            1.0             0\n",
       "365  LP002986      0       0  ...            360.0            1.0             2\n",
       "366  LP002989      0       1  ...            180.0            1.0             2\n",
       "\n",
       "[289 rows x 12 columns]"
      ]
     },
     "execution_count": 17,
     "metadata": {},
     "output_type": "execute_result"
    }
   ],
   "source": [
    "# Coding the Categorical Variable into Numerical Variable\n",
    "\n",
    "\n",
    "# {\"Gender\": {\"Male\": 0, \"Female\": 1}, \"Married\": {\"Yes\": 0, \"No\": 1}, \"Education\": {\"Graduate\": 0, \"Not Graduate\": 1}, \"Self_Employed\": {\"Yes\": 0, \"No\": 1}, \"Propert_Area\": {\"Urban\": 0, \"Semiurban\": 1, \"Rural\": 2}}\n",
    "# new_df.replace({\"Gender\": {\"Male\": 0, \"Female\": 1}, \"Married\": {\"Yes\": 0, \"No\": 1}, \"Education\": {\"Graduate\": 0, \"Not Graduate\": 1}, \"Self_Employed\": {\"Yes\": 0, \"No\": 1}, \"Propert_Area\": {\"Urban\": 0, \"Semiurban\": 1, \"Rural\": 2}}, inplace=True)\n",
    "\n",
    "new_df.loc[:, [\"Gender\", \"Married\", \"Education\", \"Self_Employed\", \"Property_Area\"]] = new_df.loc[:, [\"Gender\", \"Married\", \"Education\", \"Self_Employed\", \"Property_Area\"]].replace({\n",
    "    \"Gender\": {\"Male\": 0, \"Female\": 1},\n",
    "    \"Married\": {\"Yes\": 0, \"No\": 1},\n",
    "    \"Education\": {\"Graduate\": 0, \"Not Graduate\": 1},\n",
    "    \"Self_Employed\": {\"Yes\": 0, \"No\": 1},\n",
    "    \"Property_Area\": {\"Urban\": 0, \"Semiurban\": 1, \"Rural\": 2}\n",
    "})\n",
    "\n",
    "new_df"
   ]
  },
  {
   "cell_type": "markdown",
   "metadata": {},
   "source": [
    "DATA CLEANING/PREPROCESSING\n",
    "FEATURE NORMALIZATION\n",
    "\n",
    "VARIABLES:\n",
    "DEPENDENT VARABLES: LOAN STATUS (APPROVED OR NOT APPROVED), LOAN DEFAULT(LIKELY TO REPAY OR NOT LIKEL TO REPAY), LOAN AMOUNT(AMOUNT ELIGIBLE TO GET)\n",
    "\n",
    "INDEPENDENT VARIABLE: GENDER, MARITAL STATUS, EDUCATION, SELF EMPLOYED, APPLICANT INCOME, LOAN AMOUNT, CREDIT HISTORY, PROPERTY AREA\n",
    "\n",
    "CATEGORICAL VARIABLE: GENDER, MARRITAL STATUS, EDUCATION, SELF EMPLOYED, PROPERTY AREA\n",
    "\n",
    "NORMALIZING VARIABLE: APPLICANT INCOME, LOAN AMOUNT, COAPPLICZNT INCOME, LOAN AMOUNT TERM"
   ]
  },
  {
   "cell_type": "code",
   "execution_count": 22,
   "metadata": {},
   "outputs": [],
   "source": [
    "normalizer = Normalizer()\n",
    "standard_scaler = StandardScaler()\n",
    "minMax_scaler = MinMaxScaler(feature_range= (0, 1))"
   ]
  },
  {
   "cell_type": "code",
   "execution_count": 41,
   "metadata": {},
   "outputs": [
    {
     "name": "stdout",
     "output_type": "stream",
     "text": [
      "     ApplicantIncome  CoapplicantIncome  ...  Loan_Amount_Term  Credit_History\n",
      "0               5720                  0  ...             360.0             1.0\n",
      "1               3076               1500  ...             360.0             1.0\n",
      "2               5000               1800  ...             360.0             1.0\n",
      "4               3276                  0  ...             360.0             1.0\n",
      "5               2165               3422  ...             360.0             1.0\n",
      "..               ...                ...  ...               ...             ...\n",
      "361             2269               2167  ...             360.0             1.0\n",
      "362             4009               1777  ...             360.0             1.0\n",
      "363             4158                709  ...             360.0             1.0\n",
      "365             5000               2393  ...             360.0             1.0\n",
      "366             9200                  0  ...             180.0             1.0\n",
      "\n",
      "[289 rows x 5 columns]\n"
     ]
    }
   ],
   "source": [
    "# x1 represent the normalizing variable \n",
    "x1  = new_df.loc[:, [\"ApplicantIncome\", \"CoapplicantIncome\", \"LoanAmount\", \"Loan_Amount_Term\", \"Credit_History\"]]\n",
    "print(x1)\n",
    "\n",
    "# new_df[\"ApplicantIncome\"] = pd.to_numeric(df[\"ApplicantIncome\"], errors=\"coerce\")\n",
    "# new_df[\"CoapplicantIncome\"] = pd.to_numeric(df[\"CoapplicantIncome\"], errors=\"coerce\")\n",
    "# new_df[\"LoanAmount\"] = pd.to_numeric(df[\"LoanAmount\"], errors=\"coerce\")\n",
    "# new_df[\"Loan_Amount_Term\"] = pd.to_numeric(df[\"Loan_Amount_Term\"], errors=\"coerce\")\n",
    "# new_df[\"Credit_History\"] = pd.to_numeric(df[\"Credit_History\"], errors=\"coerce\")\n"
   ]
  },
  {
   "cell_type": "code",
   "execution_count": 67,
   "metadata": {},
   "outputs": [
    {
     "name": "stdout",
     "output_type": "stream",
     "text": [
      "[[0.07886501 0.         0.18981481 0.74683544 1.        ]\n",
      " [0.04241062 0.0625     0.22685185 0.74683544 1.        ]\n",
      " [0.06893794 0.075      0.41666667 0.74683544 1.        ]\n",
      " ...\n",
      " [0.05732879 0.02954167 0.20138889 0.74683544 1.        ]\n",
      " [0.06893794 0.09970833 0.30092593 0.74683544 1.        ]\n",
      " [0.12684581 0.         0.16203704 0.36708861 1.        ]]\n"
     ]
    }
   ],
   "source": [
    "scaled_x1 = minMax_scaler.fit_transform(x1)\n",
    "print(scaled_x1)"
   ]
  },
  {
   "cell_type": "code",
   "execution_count": 24,
   "metadata": {},
   "outputs": [
    {
     "name": "stdout",
     "output_type": "stream",
     "text": [
      "     ApplicantIncome  CoapplicantIncome  ...  Loan_Amount_Term  Credit_History\n",
      "0           0.078865           0.000000  ...          0.746835             1.0\n",
      "1           0.042411           0.062500  ...          0.746835             1.0\n",
      "2           0.068938           0.075000  ...          0.746835             1.0\n",
      "3           0.045168           0.000000  ...          0.746835             1.0\n",
      "4           0.029850           0.142583  ...          0.746835             1.0\n",
      "..               ...                ...  ...               ...             ...\n",
      "284         0.031284           0.090292  ...          0.746835             1.0\n",
      "285         0.055274           0.074042  ...          0.746835             1.0\n",
      "286         0.057329           0.029542  ...          0.746835             1.0\n",
      "287         0.068938           0.099708  ...          0.746835             1.0\n",
      "288         0.126846           0.000000  ...          0.367089             1.0\n",
      "\n",
      "[289 rows x 5 columns]\n"
     ]
    }
   ],
   "source": [
    "scaled_x1_df = pd.DataFrame(scaled_x1, columns= [\"ApplicantIncome\", \"CoapplicantIncome\", \"LoanAmount\", \"Loan_Amount_Term\", \"Credit_History\"])\n",
    "print(scaled_x1_df)"
   ]
  },
  {
   "cell_type": "markdown",
   "metadata": {},
   "source": [
    "EXPLORATOR DATA ANALYSIS (EDA)\n",
    "\n",
    "PROBLEM STATEMENT 1: PREDICTING THE LOAN AMOUNT INDIVIDUALS WILL REQUEST FOR\n",
    "\n",
    "PROBLEM STATEMENT 2: PREDICTING IF INDIVIDUALS ARE CREDIT WORTHY BASED ON THEIR CREDIT HISTORY\n",
    "\n",
    "PROBLEM STATEMENT 3: UNDERSTANDING THE INFLUENCE OF INDIVIDUAL INCOME ON LOAN"
   ]
  },
  {
   "cell_type": "markdown",
   "metadata": {},
   "source": [
    "PROBLEM STATEMENT 1 --- PREDICTING THE LOAN AMOUNT INDIVIDUALS WILL REQUEST FOR\n",
    "\n",
    "TARGET VARIABLE (y) = LOAN AMOUNT\n",
    "FEATURE VARIABLES (x) = ALL OTHER VARIABLES ASIDE LOAN AMOUNT"
   ]
  },
  {
   "cell_type": "code",
   "execution_count": 26,
   "metadata": {},
   "outputs": [
    {
     "data": {
      "text/html": [
       "<div>\n",
       "<style scoped>\n",
       "    .dataframe tbody tr th:only-of-type {\n",
       "        vertical-align: middle;\n",
       "    }\n",
       "\n",
       "    .dataframe tbody tr th {\n",
       "        vertical-align: top;\n",
       "    }\n",
       "\n",
       "    .dataframe thead th {\n",
       "        text-align: right;\n",
       "    }\n",
       "</style>\n",
       "<table border=\"1\" class=\"dataframe\">\n",
       "  <thead>\n",
       "    <tr style=\"text-align: right;\">\n",
       "      <th></th>\n",
       "      <th>Gender</th>\n",
       "      <th>Married</th>\n",
       "      <th>Education</th>\n",
       "      <th>Self_Employed</th>\n",
       "      <th>Property_Area</th>\n",
       "    </tr>\n",
       "  </thead>\n",
       "  <tbody>\n",
       "    <tr>\n",
       "      <th>0</th>\n",
       "      <td>0</td>\n",
       "      <td>0</td>\n",
       "      <td>0</td>\n",
       "      <td>1</td>\n",
       "      <td>0</td>\n",
       "    </tr>\n",
       "    <tr>\n",
       "      <th>1</th>\n",
       "      <td>0</td>\n",
       "      <td>0</td>\n",
       "      <td>0</td>\n",
       "      <td>1</td>\n",
       "      <td>0</td>\n",
       "    </tr>\n",
       "    <tr>\n",
       "      <th>2</th>\n",
       "      <td>0</td>\n",
       "      <td>0</td>\n",
       "      <td>0</td>\n",
       "      <td>1</td>\n",
       "      <td>0</td>\n",
       "    </tr>\n",
       "    <tr>\n",
       "      <th>4</th>\n",
       "      <td>0</td>\n",
       "      <td>1</td>\n",
       "      <td>1</td>\n",
       "      <td>1</td>\n",
       "      <td>0</td>\n",
       "    </tr>\n",
       "    <tr>\n",
       "      <th>5</th>\n",
       "      <td>0</td>\n",
       "      <td>0</td>\n",
       "      <td>1</td>\n",
       "      <td>0</td>\n",
       "      <td>0</td>\n",
       "    </tr>\n",
       "    <tr>\n",
       "      <th>...</th>\n",
       "      <td>...</td>\n",
       "      <td>...</td>\n",
       "      <td>...</td>\n",
       "      <td>...</td>\n",
       "      <td>...</td>\n",
       "    </tr>\n",
       "    <tr>\n",
       "      <th>361</th>\n",
       "      <td>0</td>\n",
       "      <td>0</td>\n",
       "      <td>0</td>\n",
       "      <td>1</td>\n",
       "      <td>1</td>\n",
       "    </tr>\n",
       "    <tr>\n",
       "      <th>362</th>\n",
       "      <td>0</td>\n",
       "      <td>0</td>\n",
       "      <td>1</td>\n",
       "      <td>0</td>\n",
       "      <td>0</td>\n",
       "    </tr>\n",
       "    <tr>\n",
       "      <th>363</th>\n",
       "      <td>0</td>\n",
       "      <td>0</td>\n",
       "      <td>0</td>\n",
       "      <td>1</td>\n",
       "      <td>0</td>\n",
       "    </tr>\n",
       "    <tr>\n",
       "      <th>365</th>\n",
       "      <td>0</td>\n",
       "      <td>0</td>\n",
       "      <td>0</td>\n",
       "      <td>1</td>\n",
       "      <td>2</td>\n",
       "    </tr>\n",
       "    <tr>\n",
       "      <th>366</th>\n",
       "      <td>0</td>\n",
       "      <td>1</td>\n",
       "      <td>0</td>\n",
       "      <td>0</td>\n",
       "      <td>2</td>\n",
       "    </tr>\n",
       "  </tbody>\n",
       "</table>\n",
       "<p>289 rows × 5 columns</p>\n",
       "</div>"
      ],
      "text/plain": [
       "    Gender Married Education Self_Employed Property_Area\n",
       "0        0       0         0             1             0\n",
       "1        0       0         0             1             0\n",
       "2        0       0         0             1             0\n",
       "4        0       1         1             1             0\n",
       "5        0       0         1             0             0\n",
       "..     ...     ...       ...           ...           ...\n",
       "361      0       0         0             1             1\n",
       "362      0       0         1             0             0\n",
       "363      0       0         0             1             0\n",
       "365      0       0         0             1             2\n",
       "366      0       1         0             0             2\n",
       "\n",
       "[289 rows x 5 columns]"
      ]
     },
     "execution_count": 26,
     "metadata": {},
     "output_type": "execute_result"
    }
   ],
   "source": [
    "# x2 is non normalize variable i.e the categorical variable that was converted numerical variable\n",
    "x2 = new_df.loc[:, [\"Gender\", \"Married\", \"Education\", \"Self_Employed\", \"Property_Area\"]]\n",
    "x2"
   ]
  },
  {
   "cell_type": "code",
   "execution_count": 48,
   "metadata": {},
   "outputs": [
    {
     "data": {
      "text/html": [
       "<div>\n",
       "<style scoped>\n",
       "    .dataframe tbody tr th:only-of-type {\n",
       "        vertical-align: middle;\n",
       "    }\n",
       "\n",
       "    .dataframe tbody tr th {\n",
       "        vertical-align: top;\n",
       "    }\n",
       "\n",
       "    .dataframe thead th {\n",
       "        text-align: right;\n",
       "    }\n",
       "</style>\n",
       "<table border=\"1\" class=\"dataframe\">\n",
       "  <thead>\n",
       "    <tr style=\"text-align: right;\">\n",
       "      <th></th>\n",
       "      <th>Loan_ID</th>\n",
       "      <th>Gender</th>\n",
       "      <th>Married</th>\n",
       "      <th>Dependents</th>\n",
       "      <th>Education</th>\n",
       "      <th>Self_Employed</th>\n",
       "      <th>Property_Area</th>\n",
       "      <th>ApplicantIncome</th>\n",
       "      <th>CoapplicantIncome</th>\n",
       "      <th>LoanAmount</th>\n",
       "      <th>Loan_Amount_Term</th>\n",
       "      <th>Credit_History</th>\n",
       "    </tr>\n",
       "  </thead>\n",
       "  <tbody>\n",
       "    <tr>\n",
       "      <th>0</th>\n",
       "      <td>LP001015</td>\n",
       "      <td>0</td>\n",
       "      <td>0</td>\n",
       "      <td>0</td>\n",
       "      <td>0</td>\n",
       "      <td>1</td>\n",
       "      <td>0</td>\n",
       "      <td>0.078865</td>\n",
       "      <td>0.000000</td>\n",
       "      <td>0.189815</td>\n",
       "      <td>0.746835</td>\n",
       "      <td>1.0</td>\n",
       "    </tr>\n",
       "    <tr>\n",
       "      <th>1</th>\n",
       "      <td>LP001022</td>\n",
       "      <td>0</td>\n",
       "      <td>0</td>\n",
       "      <td>1</td>\n",
       "      <td>0</td>\n",
       "      <td>1</td>\n",
       "      <td>0</td>\n",
       "      <td>0.042411</td>\n",
       "      <td>0.062500</td>\n",
       "      <td>0.226852</td>\n",
       "      <td>0.746835</td>\n",
       "      <td>1.0</td>\n",
       "    </tr>\n",
       "    <tr>\n",
       "      <th>2</th>\n",
       "      <td>LP001031</td>\n",
       "      <td>0</td>\n",
       "      <td>0</td>\n",
       "      <td>2</td>\n",
       "      <td>0</td>\n",
       "      <td>1</td>\n",
       "      <td>0</td>\n",
       "      <td>0.068938</td>\n",
       "      <td>0.075000</td>\n",
       "      <td>0.416667</td>\n",
       "      <td>0.746835</td>\n",
       "      <td>1.0</td>\n",
       "    </tr>\n",
       "    <tr>\n",
       "      <th>3</th>\n",
       "      <td>LP001051</td>\n",
       "      <td>0</td>\n",
       "      <td>1</td>\n",
       "      <td>0</td>\n",
       "      <td>1</td>\n",
       "      <td>1</td>\n",
       "      <td>0</td>\n",
       "      <td>0.045168</td>\n",
       "      <td>0.000000</td>\n",
       "      <td>0.115741</td>\n",
       "      <td>0.746835</td>\n",
       "      <td>1.0</td>\n",
       "    </tr>\n",
       "    <tr>\n",
       "      <th>4</th>\n",
       "      <td>LP001054</td>\n",
       "      <td>0</td>\n",
       "      <td>0</td>\n",
       "      <td>0</td>\n",
       "      <td>1</td>\n",
       "      <td>0</td>\n",
       "      <td>0</td>\n",
       "      <td>0.029850</td>\n",
       "      <td>0.142583</td>\n",
       "      <td>0.287037</td>\n",
       "      <td>0.746835</td>\n",
       "      <td>1.0</td>\n",
       "    </tr>\n",
       "    <tr>\n",
       "      <th>...</th>\n",
       "      <td>...</td>\n",
       "      <td>...</td>\n",
       "      <td>...</td>\n",
       "      <td>...</td>\n",
       "      <td>...</td>\n",
       "      <td>...</td>\n",
       "      <td>...</td>\n",
       "      <td>...</td>\n",
       "      <td>...</td>\n",
       "      <td>...</td>\n",
       "      <td>...</td>\n",
       "      <td>...</td>\n",
       "    </tr>\n",
       "    <tr>\n",
       "      <th>284</th>\n",
       "      <td>LP002969</td>\n",
       "      <td>0</td>\n",
       "      <td>0</td>\n",
       "      <td>1</td>\n",
       "      <td>0</td>\n",
       "      <td>1</td>\n",
       "      <td>1</td>\n",
       "      <td>0.031284</td>\n",
       "      <td>0.090292</td>\n",
       "      <td>0.164352</td>\n",
       "      <td>0.746835</td>\n",
       "      <td>1.0</td>\n",
       "    </tr>\n",
       "    <tr>\n",
       "      <th>285</th>\n",
       "      <td>LP002971</td>\n",
       "      <td>0</td>\n",
       "      <td>0</td>\n",
       "      <td>3+</td>\n",
       "      <td>1</td>\n",
       "      <td>0</td>\n",
       "      <td>0</td>\n",
       "      <td>0.055274</td>\n",
       "      <td>0.074042</td>\n",
       "      <td>0.196759</td>\n",
       "      <td>0.746835</td>\n",
       "      <td>1.0</td>\n",
       "    </tr>\n",
       "    <tr>\n",
       "      <th>286</th>\n",
       "      <td>LP002975</td>\n",
       "      <td>0</td>\n",
       "      <td>0</td>\n",
       "      <td>0</td>\n",
       "      <td>0</td>\n",
       "      <td>1</td>\n",
       "      <td>0</td>\n",
       "      <td>0.057329</td>\n",
       "      <td>0.029542</td>\n",
       "      <td>0.201389</td>\n",
       "      <td>0.746835</td>\n",
       "      <td>1.0</td>\n",
       "    </tr>\n",
       "    <tr>\n",
       "      <th>287</th>\n",
       "      <td>LP002986</td>\n",
       "      <td>0</td>\n",
       "      <td>0</td>\n",
       "      <td>0</td>\n",
       "      <td>0</td>\n",
       "      <td>1</td>\n",
       "      <td>2</td>\n",
       "      <td>0.068938</td>\n",
       "      <td>0.099708</td>\n",
       "      <td>0.300926</td>\n",
       "      <td>0.746835</td>\n",
       "      <td>1.0</td>\n",
       "    </tr>\n",
       "    <tr>\n",
       "      <th>288</th>\n",
       "      <td>LP002989</td>\n",
       "      <td>0</td>\n",
       "      <td>1</td>\n",
       "      <td>0</td>\n",
       "      <td>0</td>\n",
       "      <td>0</td>\n",
       "      <td>2</td>\n",
       "      <td>0.126846</td>\n",
       "      <td>0.000000</td>\n",
       "      <td>0.162037</td>\n",
       "      <td>0.367089</td>\n",
       "      <td>1.0</td>\n",
       "    </tr>\n",
       "  </tbody>\n",
       "</table>\n",
       "<p>289 rows × 12 columns</p>\n",
       "</div>"
      ],
      "text/plain": [
       "      Loan_ID Gender Married  ... LoanAmount Loan_Amount_Term Credit_History\n",
       "0    LP001015      0       0  ...   0.189815         0.746835            1.0\n",
       "1    LP001022      0       0  ...   0.226852         0.746835            1.0\n",
       "2    LP001031      0       0  ...   0.416667         0.746835            1.0\n",
       "3    LP001051      0       1  ...   0.115741         0.746835            1.0\n",
       "4    LP001054      0       0  ...   0.287037         0.746835            1.0\n",
       "..        ...    ...     ...  ...        ...              ...            ...\n",
       "284  LP002969      0       0  ...   0.164352         0.746835            1.0\n",
       "285  LP002971      0       0  ...   0.196759         0.746835            1.0\n",
       "286  LP002975      0       0  ...   0.201389         0.746835            1.0\n",
       "287  LP002986      0       0  ...   0.300926         0.746835            1.0\n",
       "288  LP002989      0       1  ...   0.162037         0.367089            1.0\n",
       "\n",
       "[289 rows x 12 columns]"
      ]
     },
     "execution_count": 48,
     "metadata": {},
     "output_type": "execute_result"
    }
   ],
   "source": [
    "# Creating a new datframe that will have the records of the encoded categorical variables and normalized variables\n",
    "\n",
    "new_df = new_df.reset_index(drop=True)  # Reset index of original DataFrame\n",
    "scaled_x1_df = scaled_x1_df.reset_index(drop=True)  # Reset index of normalized DataFrame\n",
    "\n",
    "new_df_normalized = pd.concat([\n",
    "    new_df[[\"Loan_ID\", \"Gender\", \"Married\", \"Dependents\", \"Education\", \"Self_Employed\", \"Property_Area\"]],\n",
    "    scaled_x1_df\n",
    "], axis=1)\n",
    "new_df_normalized"
   ]
  },
  {
   "cell_type": "code",
   "execution_count": 89,
   "metadata": {},
   "outputs": [],
   "source": [
    "# Defining x, y VARIABLES\n",
    "y = new_df_normalized[\"LoanAmount\"]\n",
    "x = new_df_normalized.drop(columns= [\"Loan_ID\", \"LoanAmount\"])\n"
   ]
  },
  {
   "cell_type": "code",
   "execution_count": 90,
   "metadata": {},
   "outputs": [
    {
     "data": {
      "text/plain": [
       "<Axes: title={'center': 'Feature Correlation Matrix'}>"
      ]
     },
     "execution_count": 90,
     "metadata": {},
     "output_type": "execute_result"
    },
    {
     "data": {
      "image/png": "[encoded data removed]",
      "text/plain": [
       "<Figure size 1000x700 with 2 Axes>"
      ]
     },
     "metadata": {},
     "output_type": "display_data"
    }
   ],
   "source": [
    "# PERFORMING CORRELATION ANALYSIS BETWEEN TAGET VARIABLE AND FEATURE VARIABLE\n",
    "new_df_normalized[\"Dependents\"] = new_df_normalized[\"Dependents\"].replace(\"3+\", 3)\n",
    "# new_df_normalized\n",
    "z = new_df_normalized.drop(columns=\"Loan_ID\")\n",
    "corr = z.corr()\n",
    "plt.figure(figsize=(10, 7))\n",
    "plt.title(\"Feature Correlation Matrix\")\n",
    "sns.heatmap(corr, annot= True, cmap= \"coolwarm\", fmt=\".2f\")"
   ]
  },
  {
   "cell_type": "code",
   "execution_count": 91,
   "metadata": {},
   "outputs": [
    {
     "data": {
      "text/plain": [
       "Text(0, 0.5, 'Loan Amount')"
      ]
     },
     "execution_count": 91,
     "metadata": {},
     "output_type": "execute_result"
    },
    {
     "data": {
      "image/png": "[encoded data removed]",
      "text/plain": [
       "<Figure size 640x480 with 1 Axes>"
      ]
     },
     "metadata": {},
     "output_type": "display_data"
    }
   ],
   "source": [
    "plt.bar(x[\"Married\"], y, color = \"blue\")\n",
    "plt.title(\"Marital Status By Loan\")\n",
    "plt.xlabel(\"Marital Status\")\n",
    "plt.ylabel(\"Loan Amount\")"
   ]
  },
  {
   "cell_type": "markdown",
   "metadata": {},
   "source": [
    "SPLITTING DATA INTO TRAINING AND TESTING DATA"
   ]
  },
  {
   "cell_type": "code",
   "execution_count": 97,
   "metadata": {},
   "outputs": [],
   "source": [
    "x_train, x_test, y_train, y_test = train_test_split(x, y, test_size= 0.05, random_state= 0)\n",
    "# x_test"
   ]
  },
  {
   "cell_type": "markdown",
   "metadata": {},
   "source": [
    "MODEL DEVELOPMENT AND PREDICTIONS"
   ]
  },
  {
   "cell_type": "code",
   "execution_count": 102,
   "metadata": {},
   "outputs": [
    {
     "data": {
      "text/plain": [
       "array([0.28367832, 0.23936792, 0.13077548, 0.24371884, 0.23627134,\n",
       "       0.30911359, 0.27312999, 0.3032442 , 0.19195133, 0.13571818,\n",
       "       0.25239066, 0.24428731, 0.26934557, 0.2181015 , 0.27572982])"
      ]
     },
     "execution_count": 102,
     "metadata": {},
     "output_type": "execute_result"
    }
   ],
   "source": [
    "\n",
    "\n",
    "# Selecting ML Model\n",
    "log_regression = LinearRegression()\n",
    "\n",
    "# Train the DATA fitting the model with data\n",
    "log_regression.fit(x_train, y_train)\n",
    "\n",
    "# Make Prediction\n",
    "y_pred = log_regression.predict(x_test)\n",
    "y_pred\n",
    "\n",
    "\n",
    "\n",
    "\n"
   ]
  },
  {
   "cell_type": "markdown",
   "metadata": {},
   "source": [
    "MODEL EVALUATION USING REGRESSION EVALUATION METRICS- MEAN ABSOLUTE ERROR"
   ]
  },
  {
   "cell_type": "code",
   "execution_count": 103,
   "metadata": {},
   "outputs": [
    {
     "name": "stdout",
     "output_type": "stream",
     "text": [
      "MAE 0.08157602758682861\n"
     ]
    }
   ],
   "source": [
    "from sklearn.metrics import mean_absolute_error\n",
    "print(\"MAE\",mean_absolute_error(y_test,y_pred))"
   ]
  }
 ],
 "metadata": {
  "kernelspec": {
   "display_name": "class_env",
   "language": "python",
   "name": "python3"
  },
  "language_info": {
   "codemirror_mode": {
    "name": "ipython",
    "version": 3
   },
   "file_extension": ".py",
   "mimetype": "text/x-python",
   "name": "python",
   "nbconvert_exporter": "python",
   "pygments_lexer": "ipython3",
   "version": "3.11.4"
  }
 },
 "nbformat": 4,
 "nbformat_minor": 2
}
